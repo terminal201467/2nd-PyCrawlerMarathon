{
 "cells": [
  {
   "cell_type": "markdown",
   "metadata": {},
   "source": [
    "# 靜態網頁的資料爬蟲策略\n",
    "\n",
    "\n",
    "* 了解靜態網頁的資料爬蟲策略\n",
    "* 認識適用於靜態網頁爬蟲的相關套件工具：Request\n",
    "* 認識適用於靜態網頁爬蟲的相關套件工具：BeatifulSoup"
   ]
  },
  {
   "cell_type": "markdown",
   "metadata": {},
   "source": [
    "## 作業目標\n",
    "\n",
    "利用 Request + BeatifulSoup 爬取下列兩個網站內容並解析：\n",
    "\n",
    "1. Dcared 網址： https://www.dcard.tw/f\n",
    "2. 知乎： https://www.zhihu.com/explore\n",
    "\n",
    "並且回答下面問題：\n",
    "\n",
    "1. Request 取回之後該怎麼取出資料，資料型態是什麼？\n",
    "2. 為什麼要使用 BeatifulSoup 處理？處理後的型態是什麼？\n",
    "3. 觀察一下知乎回來的資料好像有點怪怪的，該怎麼解決？"
   ]
  },
  {
   "cell_type": "markdown",
   "metadata": {},
   "source": [
    "### 1. Dcard 網址： https://www.dcard.tw/f"
   ]
  },
  {
   "cell_type": "code",
   "execution_count": 13,
   "metadata": {},
   "outputs": [],
   "source": [
    "import requests\n",
    "from bs4 import BeautifulSoup"
   ]
  },
  {
   "cell_type": "code",
   "execution_count": 27,
   "metadata": {},
   "outputs": [
    {
     "name": "stdout",
     "output_type": "stream",
     "text": [
      "<!DOCTYPE html>\n",
      "<!--[if lt IE 7]> <html class=\"no-js ie6 oldie\" lang=\"en-US\"> <![endif]--><!--[if IE 7]>    <html class=\"no-js ie7 oldie\" lang=\"en-US\"> <![endif]--><!--[if IE 8]>    <html class=\"no-js ie8 oldie\" lang=\"en-US\"> <![endif]--><!--[if gt IE 8]><!--><html class=\"no-js\" lang=\"en-US\"> <!--<![endif]-->\n",
      "<head>\n",
      "<title>Attention Required! | Cloudflare</title>\n",
      "<meta id=\"captcha-bypass\" name=\"captcha-bypass\"/>\n",
      "<meta charset=\"utf-8\"/>\n",
      "<meta content=\"text/html; charset=utf-8\" http-equiv=\"Content-Type\"/>\n",
      "<meta content=\"IE=Edge,chrome=1\" http-equiv=\"X-UA-Compatible\"/>\n",
      "<meta content=\"noindex, nofollow\" name=\"robots\"/>\n",
      "<meta content=\"width=device-width,initial-scale=1,maximum-scale=1\" name=\"viewport\"/>\n",
      "<link href=\"/cdn-cgi/styles/cf.errors.css\" id=\"cf_styles-css\" media=\"screen,projection\" rel=\"stylesheet\" type=\"text/css\"/>\n",
      "<!--[if lt IE 9]><link rel=\"stylesheet\" id='cf_styles-ie-css' href=\"/cdn-cgi/styles/cf.errors.ie.css\" type=\"text/css\" media=\"screen,projection\" /><![endif]-->\n",
      "<style type=\"text/css\">body{margin:0;padding:0}</style>\n",
      "<!--[if gte IE 10]><!--><script src=\"/cdn-cgi/scripts/zepto.min.js\" type=\"text/javascript\"></script><!--<![endif]-->\n",
      "<!--[if gte IE 10]><!--><script src=\"/cdn-cgi/scripts/cf.common.js\" type=\"text/javascript\"></script><!--<![endif]-->\n",
      "</head>\n",
      "<body>\n",
      "<div id=\"cf-wrapper\">\n",
      "<div class=\"cf-alert cf-alert-error cf-cookie-error\" data-translate=\"enable_cookies\" id=\"cookie-alert\">Please enable cookies.</div>\n",
      "<div class=\"cf-error-details-wrapper\" id=\"cf-error-details\">\n",
      "<div class=\"cf-wrapper cf-header cf-error-overview\">\n",
      "<h1 data-translate=\"challenge_headline\">One more step</h1>\n",
      "<h2 class=\"cf-subheadline\"><span data-translate=\"complete_sec_check\">Please complete the security check to access</span> www.dcard.tw</h2>\n",
      "</div><!-- /.header -->\n",
      "<div class=\"cf-section cf-highlight cf-captcha-container\">\n",
      "<div class=\"cf-wrapper\">\n",
      "<div class=\"cf-columns two\">\n",
      "<div class=\"cf-column\">\n",
      "<div class=\"cf-highlight-inverse cf-form-stacked\">\n",
      "<form action=\"/f?__cf_chl_captcha_tk__=29c7e8478fd7ecdb96c0d21aed5339a7a23a0a48-1583231065-0-AXqrmbzamC7U1J-Agz-qtkrFSCpljIbsjY3ohiBLmVLPF3DpcDrcPm2TDThq5Ryd4WGbxpT4RlCYkNUbuXDIDa_duVZh6nb9OktvkkzXFtPTC9BF-yAii-B374_P8NrRgD4dlEm17O7cF8XEZoCZU6EY7T60ODk0dTiuUHPZJML3Ty0LMevTrk6NWB0pjBy4Cia6iESJpZLL7eNTa92Ate8DOQVDuNCvfbTsxWel9YcVZX4fOi7FlpTZ29i0V8ryV7SJZGvTAwPpt_eU84e8-RU4ITppwDBa9fHChpCvGG76fYP6h95dYTl9KlD483Ke1xT0YVBtoTcj9YjjnfopxBSshiedMOCCg_JqyOLejMQehgd9J4ejmmnlTiEDZSlNkx41dc5qYpQnwihkxNxcxvFJ2csR55DgRizaYDNBUNN7cl6vIqSKrKuhPE1uvUEaqQ\" class=\"challenge-form\" enctype=\"application/x-www-form-urlencoded\" id=\"challenge-form\" method=\"POST\">\n",
      "<input name=\"r\" type=\"hidden\" value=\"e2b3e2b048eba59a785dfbbe1e99f5e42a59288f-1583231065-0-AYvPVArH4AMZ+xnJ3iGRhRkpwcoD0DU2MERIjDPVPZlcgfWOy3TZzzNvqMteb+PC/tjzypB4ZG/7U8zB/2hK2rT3FfKN1S4ms6I6s6iyGNHyHseDZpsfDYkC/Alm3LC4n5i+dAMcC1Am8TlQJDW5iZOnGvXJgmwN5mZiZByiFjQLJ3DICaduYzURYHMiexufeZUCNbD+ef862qEdZWKlqaLpTJQvqqA7KTBD577epTeXgjh0K7RqcQPhMb6hMHxlBPwA48kT1hV2791z8FpWgKM8WuRLidLDibjFMuMQ/1rdOckCM5D6XJa1iPVp4ZcvvZasW98qKii6HTYPktX4m/tQ+Cufwo/qudo4B7v/4npO9t5jAfzognIYAzrtsdS5wmfggLOsAd9gUz/EfxkGhbINDcavHh0J9NoeaIYoIh7pnLn6/jsWFxAMQxcKcfZRTVkRB4LOVyBhPL+dqZDVcrDBwSmamyZvrGJueM8J5CXfK2cMfLr6tRd9cwPb+JcMtNb6IPR6foUiMRd8/3PegIGsRfMlbn6MxqfYzJsOWpm7ryRD08BAIiaNx9LwdwL//+g+USFbbArE1kawh3C1KPpT0NqiqpdgtCvahqOCfJ6JgPcTlUPLXYB5kyQQO5wUdqhPKwh5I1g/2a2ncygmR77tw6lPK7KXjjmlPl6Gso0Ey0HPVZ/Qp+HkXtRE7/vVLC86L4obvtTouPKnuplK9LSp0e0VzhOaXGKU+c5GlG/e3cvdm1EK8GBU7kvDZP1z04So7eG8GFmrd4wjf/N+6TpmCA4MK233oEMFOGbqBEFwd7zgz5wJfnEpFB8VL9n7aaZtUIV7f5axXYFyIwsWZOfHbZWzD6IJbA1o2/9Vnz0T0NA/UnSHGGC3ZwNYkILjXBNQFfyE5djraVQ2mpVPcnT8GGlWORZqduq5CwEaJznhQvt3qvVeN2iCc0upAbFdkDnBqkIYy2ogvgIS0n+7Px+YJDByXSQYNzvLzm69PHMBAdxm/CVczVGVuvpUGC8YZEB3mn4XIAVHX34DlvWKxpqbUiVicjUkSFF6gjsfNUlGfJP3jFqad+nyqBbuZXeSTanGW1Iv84odWJer0O4qztiZdLYY58vdgKSNc/+uzmCkuG/ro7euj4dR2ennLeoJpB4wE+zq8RwW7+pfIIIx/DkZY042DUfCtD4StgzY42iJVJrwQVdMft3qmMBxKg0OVDj2FI1+XhcS0jysMWFQwkSIIjiDChWUXrMainu6aFzsgTZ1azk8oQOICCIIRuD1LVM1M4Qb+ZWqkxFDEA6Ym3zJb2MQ33Tp7a7G17L225WAJUAMpTotn4GO+/lPiFdfmQ==\"/>\n",
      "<script async=\"\" data-ray=\"56e2a5d00f6bf0b1\" data-sitekey=\"6LfBixYUAAAAABhdHynFUIMA_sa4s-XsJvnjtgB0\" data-type=\"normal\" src=\"/cdn-cgi/scripts/cf.challenge.js\" type=\"text/javascript\"></script>\n",
      "<input name=\"cf_captcha_kind\" type=\"hidden\" value=\"re\"/>\n",
      "<div class=\"g-recaptcha\"></div>\n",
      "<noscript class=\"cf-captcha-info\" id=\"cf-captcha-bookmark\">\n",
      "<div><div style=\"width: 302px\">\n",
      "<div>\n",
      "<iframe frameborder=\"0\" scrolling=\"no\" src=\"https://www.google.com/recaptcha/api/fallback?k=6LfBixYUAAAAABhdHynFUIMA_sa4s-XsJvnjtgB0\" style=\"width: 302px; height:422px; border-style: none;\"></iframe>\n",
      "</div>\n",
      "<div style=\"width: 300px; border-style: none; bottom: 12px; left: 25px; margin: 0px; padding: 0px; right: 25px; background: #f9f9f9; border: 1px solid #c1c1c1; border-radius: 3px;\">\n",
      "<textarea class=\"g-recaptcha-response\" id=\"g-recaptcha-response\" name=\"g-recaptcha-response\" style=\"width: 250px; height: 40px; border: 1px solid #c1c1c1; margin: 10px 25px; padding: 0px; resize: none;\"></textarea>\n",
      "<input type=\"submit\" value=\"Submit\"/>\n",
      "</div>\n",
      "</div></div>\n",
      "</noscript>\n",
      "<div id=\"trk_captcha_js\" style=\"background-image:url('/cdn-cgi/images/trace/captcha/nojs/re/transparent.gif?ray=56e2a5d00f6bf0b1')\"> </div>\n",
      "</form>\n",
      "</div>\n",
      "</div>\n",
      "<div class=\"cf-column\">\n",
      "<div class=\"cf-screenshot-container\">\n",
      "<span class=\"cf-no-screenshot\"></span>\n",
      "</div>\n",
      "</div>\n",
      "</div><!-- /.columns -->\n",
      "</div>\n",
      "</div><!-- /.captcha-container -->\n",
      "<div class=\"cf-section cf-wrapper\">\n",
      "<div class=\"cf-columns two\">\n",
      "<div class=\"cf-column\">\n",
      "<h2 data-translate=\"why_captcha_headline\">Why do I have to complete a CAPTCHA?</h2>\n",
      "<p data-translate=\"why_captcha_detail\">Completing the CAPTCHA proves you are a human and gives you temporary access to the web property.</p>\n",
      "</div>\n",
      "<div class=\"cf-column\">\n",
      "<h2 data-translate=\"resolve_captcha_headline\">What can I do to prevent this in the future?</h2>\n",
      "<p data-translate=\"resolve_captcha_antivirus\">If you are on a personal connection, like at home, you can run an anti-virus scan on your device to make sure it is not infected with malware.</p>\n",
      "<p data-translate=\"resolve_captcha_network\">If you are at an office or shared network, you can ask the network administrator to run a scan across the network looking for misconfigured or infected devices.</p>\n",
      "</div>\n",
      "</div>\n",
      "</div><!-- /.section -->\n",
      "<div class=\"cf-error-footer cf-wrapper\">\n",
      "<p>\n",
      "<span class=\"cf-footer-item\">Cloudflare Ray ID: <strong>56e2a5d00f6bf0b1</strong></span>\n",
      "<span class=\"cf-footer-separator\">•</span>\n",
      "<span class=\"cf-footer-item\"><span>Your IP</span>: 118.163.199.192</span>\n",
      "<span class=\"cf-footer-separator\">•</span>\n",
      "<span class=\"cf-footer-item\"><span>Performance &amp; security by</span> <a href=\"https://www.cloudflare.com/5xx-error-landing?utm_source=error_footer\" id=\"brand_link\" target=\"_blank\">Cloudflare</a></span>\n",
      "</p>\n",
      "</div><!-- /.error-footer -->\n",
      "</div><!-- /#cf-error-details -->\n",
      "</div><!-- /#cf-wrapper -->\n",
      "<script type=\"text/javascript\">\n",
      "  window._cf_translation = {};\n",
      "  \n",
      "  \n",
      "</script>\n",
      "</body>\n",
      "</html>\n",
      "\n"
     ]
    }
   ],
   "source": [
    "url = 'https://www.dcard.tw/f'\n",
    "\n",
    "import requests\n",
    "import json\n",
    "r = requests.get(url)\n",
    "rt = r.text\n",
    "soup = BeautifulSoup(rt)\n",
    "print(soup)"
   ]
  },
  {
   "cell_type": "code",
   "execution_count": 8,
   "metadata": {},
   "outputs": [
    {
     "name": "stdout",
     "output_type": "stream",
     "text": [
      "Request 取回之後該怎麼取出資料，資料型態是什麼？ =>\n"
     ]
    },
    {
     "data": {
      "text/plain": [
       "'\\nYour Code Here\\n'"
      ]
     },
     "execution_count": 8,
     "metadata": {},
     "output_type": "execute_result"
    }
   ],
   "source": [
    "print('Request 取回之後該怎麼取出資料，資料型態是什麼？ =>')\n",
    "\n",
    "資料裡含有HTML的文字檔與許多存取資料的連節"
   ]
  },
  {
   "cell_type": "code",
   "execution_count": 28,
   "metadata": {},
   "outputs": [
    {
     "name": "stdout",
     "output_type": "stream",
     "text": [
      "為什麼要使用 BeatifulSoup 處理？處理後的型態是什麼？ => \n",
      "<!DOCTYPE html>\n",
      "<!--[if lt IE 7]> <html class=\"no-js ie6 oldie\" lang=\"en-US\"> <![endif]--><!--[if IE 7]>    <html class=\"no-js ie7 oldie\" lang=\"en-US\"> <![endif]--><!--[if IE 8]>    <html class=\"no-js ie8 oldie\" lang=\"en-US\"> <![endif]--><!--[if gt IE 8]><!--><html class=\"no-js\" lang=\"en-US\"> <!--<![endif]-->\n",
      "<head>\n",
      "<title>Attention Required! | Cloudflare</title>\n",
      "<meta id=\"captcha-bypass\" name=\"captcha-bypass\"/>\n",
      "<meta charset=\"utf-8\"/>\n",
      "<meta content=\"text/html; charset=utf-8\" http-equiv=\"Content-Type\"/>\n",
      "<meta content=\"IE=Edge,chrome=1\" http-equiv=\"X-UA-Compatible\"/>\n",
      "<meta content=\"noindex, nofollow\" name=\"robots\"/>\n",
      "<meta content=\"width=device-width,initial-scale=1,maximum-scale=1\" name=\"viewport\"/>\n",
      "<link href=\"/cdn-cgi/styles/cf.errors.css\" id=\"cf_styles-css\" media=\"screen,projection\" rel=\"stylesheet\" type=\"text/css\"/>\n",
      "<!--[if lt IE 9]><link rel=\"stylesheet\" id='cf_styles-ie-css' href=\"/cdn-cgi/styles/cf.errors.ie.css\" type=\"text/css\" media=\"screen,projection\" /><![endif]-->\n",
      "<style type=\"text/css\">body{margin:0;padding:0}</style>\n",
      "<!--[if gte IE 10]><!--><script src=\"/cdn-cgi/scripts/zepto.min.js\" type=\"text/javascript\"></script><!--<![endif]-->\n",
      "<!--[if gte IE 10]><!--><script src=\"/cdn-cgi/scripts/cf.common.js\" type=\"text/javascript\"></script><!--<![endif]-->\n",
      "</head>\n",
      "<body>\n",
      "<div id=\"cf-wrapper\">\n",
      "<div class=\"cf-alert cf-alert-error cf-cookie-error\" data-translate=\"enable_cookies\" id=\"cookie-alert\">Please enable cookies.</div>\n",
      "<div class=\"cf-error-details-wrapper\" id=\"cf-error-details\">\n",
      "<div class=\"cf-wrapper cf-header cf-error-overview\">\n",
      "<h1 data-translate=\"challenge_headline\">One more step</h1>\n",
      "<h2 class=\"cf-subheadline\"><span data-translate=\"complete_sec_check\">Please complete the security check to access</span> www.dcard.tw</h2>\n",
      "</div><!-- /.header -->\n",
      "<div class=\"cf-section cf-highlight cf-captcha-container\">\n",
      "<div class=\"cf-wrapper\">\n",
      "<div class=\"cf-columns two\">\n",
      "<div class=\"cf-column\">\n",
      "<div class=\"cf-highlight-inverse cf-form-stacked\">\n",
      "<form action=\"/f?__cf_chl_captcha_tk__=51c55a26d853fb2c8bb2040da842e58663f05e18-1583231143-0-ARZet9cTtninO_klcVyZ1M3u_m2t-jbB8__cvW0fZ7RuFb6vmweT90djr_AZR3-yd7mzTV803tCF1DK9JOUnaE1Oyyt78jBV07rUOg1igJkVvaryeTw1PZdgXo1Ib9-HzECAPOWciQ3l_t02_1WrByCep2fTFGPZIdHOfm9v0ed_sU9YtvEqlXwC8a59MnvydO03OpNm3DFvMWnNch_qNTHnsZcHnizY_hxXpm4hHuiTA21lwIX5PIlm2Af1EFj8r90n5KloqQjz_SStaK2gtRxlf64CAcvdHzb8UgJqJsoH52u0AONR1WL8t0doIMGInKuavYvyRiYsleKUtxadsefZ36m49WmYYnw3fAPD-_iPfFwJC9wS6_5hrrYwIGdDNSIOVA1vMY4QZklEQWil5w41yfgm019CHTj5nzSlU0Rl1dTR79LdqOugCYEwfd0fKg\" class=\"challenge-form\" enctype=\"application/x-www-form-urlencoded\" id=\"challenge-form\" method=\"POST\">\n",
      "<input name=\"r\" type=\"hidden\" value=\"0283b21e8d967625937e864420ed3fbac9e0273d-1583231143-0-Acp5Od3CVe3tRLSAwnrVGg9JrC4dHS80+qpSe93LZpaHVMpc9cYNlA2kGprKPmqyd02WcPZBMlGMqj6ezfex5hiDJQgd8Fed2PzLVZnPFdtEM3QKkZTFwvggF7ZNbTCAGgL4OEGDG1sk/3t2m9kQyruTCiRy8bNormfmlXZPJfrWgtyNAUxDrx4ZHsS9p4uxz8lTjh3gBKy3DyhnYSVJo4JQ7enAS+2RqZpPStc3bM4Iz9mBlmqpqiyYBuT2rEbISZv9CeZ0sCLcBID54fBWz2+ehFjswTxoVDt0FKQ8y4dfh76TjMK1si7iO1L/aqm1QxhxnwM3stHDs8SxMXhlNKJbIUToDIkHnbexoN4JqH/Ff2ATw18BnFc39Tg1zzLM2po5JYKiS6FiKWfV7d982FIzcG35dm3J7PQpIrWy/dsuOzENwmE4rO9Yh0XsFRuQaswHvKxaGE5i8aMcs+lIPgZrwsEqDKsWl0GUsp/cn1EVjWWB3UywM7+uGgTkyaUuRsLVoF1o+5eYv2WvPapgqIaEIJvtqsdE6i4BIUfpCtMPyTNZKW9nH2sRfEGBITkgeLrCEfYyLRa/2KnW77Vln3SUXSrXxVC/s4enGauBD4YuS43Ay/F8WV7Lif1f6Hzvt5xVYKKVbeyPdbV83h7RZje0fI5V9P8izHY3yKLgN3EFYMvdsDvJY8h/cr2xhMJslOU1Ysjrs8oFDb8DIBW1mUdqKmI8KfVuq/btAR1u5vKgGoKTolPhU6fxA/cf7MR/Ji+qjVTiUqMtEi8x+5xXhMz1y0Ho9fpqNfHTxomwvUoRaqQ8qTpwPA8e6HvB+oZVRK8xG3kTmc8PuZtjR/mREh82/6yjvUeNFC3fn5H/UR2+WbpDzKa9v8lquK5bozJFTRugauke3GdxUbTTNO8nGmb5QBXR2si+BKNFprkGJlT8VehkxCUpVZ+e4coMZvmBh/kHS5/EHemDRzoaKTNJmQoP417396LmJ++BlitHtVRaQ6vzP+Kil0czdkjaiEn2v2z/OpKNVjJrKmhZFleeg92dgHUF1wxLS0rN35weNIhNNfZkrom9/DstjqdLG44POdEAFbiAz8auNzwzoxEazcEUkKWhzgxzvRp8mmtznRWo8GBmpbsTLZCi1eno+EHDq2y3bhTRfuB9egigfInqihnE+IphOk9CpeHjEN3/2ymEt68dpRNyx57Vudh5X/5beArC0YQYXolCXNwFO4wwzsGzsschA7qDkEWzLjAlsDpkqRscu7qkcnQNs87awGoSyUIOlk51GmcMGsiITsjBmdxlaxTEo/fZBm8wyzI599AQ33Qet1qshDmzvbL3yNVwcg==\"/>\n",
      "<script async=\"\" data-ray=\"56e2a7b92d7cf089\" data-sitekey=\"6LfBixYUAAAAABhdHynFUIMA_sa4s-XsJvnjtgB0\" data-type=\"normal\" src=\"/cdn-cgi/scripts/cf.challenge.js\" type=\"text/javascript\"></script>\n",
      "<input name=\"cf_captcha_kind\" type=\"hidden\" value=\"re\"/>\n",
      "<div class=\"g-recaptcha\"></div>\n",
      "<noscript class=\"cf-captcha-info\" id=\"cf-captcha-bookmark\">\n",
      "<div><div style=\"width: 302px\">\n",
      "<div>\n",
      "<iframe frameborder=\"0\" scrolling=\"no\" src=\"https://www.google.com/recaptcha/api/fallback?k=6LfBixYUAAAAABhdHynFUIMA_sa4s-XsJvnjtgB0\" style=\"width: 302px; height:422px; border-style: none;\"></iframe>\n",
      "</div>\n",
      "<div style=\"width: 300px; border-style: none; bottom: 12px; left: 25px; margin: 0px; padding: 0px; right: 25px; background: #f9f9f9; border: 1px solid #c1c1c1; border-radius: 3px;\">\n",
      "<textarea class=\"g-recaptcha-response\" id=\"g-recaptcha-response\" name=\"g-recaptcha-response\" style=\"width: 250px; height: 40px; border: 1px solid #c1c1c1; margin: 10px 25px; padding: 0px; resize: none;\"></textarea>\n",
      "<input type=\"submit\" value=\"Submit\"/>\n",
      "</div>\n",
      "</div></div>\n",
      "</noscript>\n",
      "<div id=\"trk_captcha_js\" style=\"background-image:url('/cdn-cgi/images/trace/captcha/nojs/re/transparent.gif?ray=56e2a7b92d7cf089')\"> </div>\n",
      "</form>\n",
      "</div>\n",
      "</div>\n",
      "<div class=\"cf-column\">\n",
      "<div class=\"cf-screenshot-container\">\n",
      "<span class=\"cf-no-screenshot\"></span>\n",
      "</div>\n",
      "</div>\n",
      "</div><!-- /.columns -->\n",
      "</div>\n",
      "</div><!-- /.captcha-container -->\n",
      "<div class=\"cf-section cf-wrapper\">\n",
      "<div class=\"cf-columns two\">\n",
      "<div class=\"cf-column\">\n",
      "<h2 data-translate=\"why_captcha_headline\">Why do I have to complete a CAPTCHA?</h2>\n",
      "<p data-translate=\"why_captcha_detail\">Completing the CAPTCHA proves you are a human and gives you temporary access to the web property.</p>\n",
      "</div>\n",
      "<div class=\"cf-column\">\n",
      "<h2 data-translate=\"resolve_captcha_headline\">What can I do to prevent this in the future?</h2>\n",
      "<p data-translate=\"resolve_captcha_antivirus\">If you are on a personal connection, like at home, you can run an anti-virus scan on your device to make sure it is not infected with malware.</p>\n",
      "<p data-translate=\"resolve_captcha_network\">If you are at an office or shared network, you can ask the network administrator to run a scan across the network looking for misconfigured or infected devices.</p>\n",
      "</div>\n",
      "</div>\n",
      "</div><!-- /.section -->\n",
      "<div class=\"cf-error-footer cf-wrapper\">\n",
      "<p>\n",
      "<span class=\"cf-footer-item\">Cloudflare Ray ID: <strong>56e2a7b92d7cf089</strong></span>\n",
      "<span class=\"cf-footer-separator\">•</span>\n",
      "<span class=\"cf-footer-item\"><span>Your IP</span>: 118.163.199.192</span>\n",
      "<span class=\"cf-footer-separator\">•</span>\n",
      "<span class=\"cf-footer-item\"><span>Performance &amp; security by</span> <a href=\"https://www.cloudflare.com/5xx-error-landing?utm_source=error_footer\" id=\"brand_link\" target=\"_blank\">Cloudflare</a></span>\n",
      "</p>\n",
      "</div><!-- /.error-footer -->\n",
      "</div><!-- /#cf-error-details -->\n",
      "</div><!-- /#cf-wrapper -->\n",
      "<script type=\"text/javascript\">\n",
      "  window._cf_translation = {};\n",
      "  \n",
      "  \n",
      "</script>\n",
      "</body>\n",
      "</html>\n",
      "\n"
     ]
    }
   ],
   "source": [
    "print('為什麼要使用 BeatifulSoup 處理？處理後的型態是什麼？ => ')\n",
    "\n",
    "from bs4 import BeautifulSoup\n",
    "r = requests.get(url)\n",
    "rt = r.text\n",
    "soup = BeautifulSoup(rt)\n",
    "print(soup)\n",
    "\n",
    "用BeautifulSoup處理後，資料會變得有格式，比較方便解讀"
   ]
  },
  {
   "cell_type": "markdown",
   "metadata": {},
   "source": [
    "### 2. 知乎： https://www.zhihu.com/explore"
   ]
  },
  {
   "cell_type": "code",
   "execution_count": 21,
   "metadata": {},
   "outputs": [
    {
     "name": "stdout",
     "output_type": "stream",
     "text": [
      "<html>\r\n",
      "<head><title>400 Bad Request</title></head>\r\n",
      "<body bgcolor=\"white\">\r\n",
      "<center><h1>400 Bad Request</h1></center>\r\n",
      "<hr><center>openresty</center>\r\n",
      "</body>\r\n",
      "</html>\r\n",
      "\n"
     ]
    }
   ],
   "source": [
    "url = 'https://www.zhihu.com/explore'\n",
    "r = requests.get(url)\n",
    "r.encoding = 'utf-8'\n",
    "\n",
    "print(r.text[0:600])"
   ]
  },
  {
   "cell_type": "markdown",
   "metadata": {},
   "source": [
    "### 3. 觀察一下知乎回來的資料好像有點怪怪的，該怎麼解決？"
   ]
  },
  {
   "cell_type": "code",
   "execution_count": 29,
   "metadata": {},
   "outputs": [
    {
     "name": "stdout",
     "output_type": "stream",
     "text": [
      "<!DOCTYPE html>\n",
      "<html data-hairline=\"true\" data-theme=\"light\" lang=\"zh\"><head><meta charset=\"utf-8\"/><title data-react-helmet=\"true\">发现 - 知乎</title><meta content=\"width=device-width,initial-scale=1,maximum-scale=1\" name=\"viewport\"/><meta content=\"webkit\" name=\"renderer\"/><meta content=\"webkit\" name=\"force-rendering\"/><meta content=\"IE=edge,chrome=1\" http-equiv=\"X-UA-Compatible\"/><meta content=\"FTeR0c8arOPKh8c5DYh_9uu98_zJbaWw53J-Sch9MTg\" name=\"google-site-verification\"/><meta content=\"有问题，上知乎。知乎，可信赖的问答社区，以让每个人高效获得可信赖的解答为使命。知乎凭借认真、专业和友善的社区氛围，结构化、易获得的\" name=\"description\" property=\"og:description\"/></head></html>\n"
     ]
    }
   ],
   "source": [
    "import requests\n",
    "url = 'https://www.zhihu.com/explore'\n",
    "headers = {\"user-agent\":\"Mozilla/5.0 (Windows NT 6.1; Win64; x64) AppleWebKit/537.36 (KHTML, like Gecko) Chrome/80.0.3987.116 Safari/537.36\"}\n",
    "r = requests.get(url,headers = headers)\n",
    "r.encoding = 'utf-8'\n",
    "rt600 = r.text[0:600]\n",
    "soup = BeautifulSoup(rt600)\n",
    "print(soup)"
   ]
  },
  {
   "cell_type": "code",
   "execution_count": null,
   "metadata": {},
   "outputs": [],
   "source": []
  }
 ],
 "metadata": {
  "kernelspec": {
   "display_name": "Python 3",
   "language": "python",
   "name": "python3"
  },
  "language_info": {
   "codemirror_mode": {
    "name": "ipython",
    "version": 3
   },
   "file_extension": ".py",
   "mimetype": "text/x-python",
   "name": "python",
   "nbconvert_exporter": "python",
   "pygments_lexer": "ipython3",
   "version": "3.7.3"
  }
 },
 "nbformat": 4,
 "nbformat_minor": 2
}
