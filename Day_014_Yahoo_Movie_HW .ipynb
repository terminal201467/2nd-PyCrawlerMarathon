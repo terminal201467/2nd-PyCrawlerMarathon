{
 "cells": [
  {
   "cell_type": "markdown",
   "metadata": {},
   "source": [
    "# YAHOO電影爬蟲練習\n",
    "## 練習爬取電影放映資訊。必須逐步獲取電影的代號、放映地區、放映日期後，再送出查詢給伺服器。"
   ]
  },
  {
   "cell_type": "code",
   "execution_count": 1,
   "metadata": {},
   "outputs": [],
   "source": [
    "import requests\n",
    "import re\n",
    "from bs4 import BeautifulSoup"
   ]
  },
  {
   "cell_type": "markdown",
   "metadata": {},
   "source": [
    "### 先搜尋全部的電影代號(ID)資訊"
   ]
  },
  {
   "cell_type": "code",
   "execution_count": 2,
   "metadata": {},
   "outputs": [
    {
     "name": "stdout",
     "output_type": "stream",
     "text": [
      "Movie: 電影版 地獄少女, ID: 10525\n",
      "Movie: 刺激1995, ID: 10518\n",
      "Movie: 通靈少年2020, ID: 10517\n",
      "Movie: 安雅的回家路, ID: 10516\n",
      "Movie: 牆內的房客, ID: 10512\n",
      "Movie: 南山的部長們, ID: 10509\n",
      "Movie: 另類神父, ID: 10500\n",
      "Movie: 破．局, ID: 10496\n",
      "Movie: 劇場版 不起眼女主角培育法 Fine, ID: 10486\n",
      "Movie: 複製柔伊, ID: 10455\n",
      "Movie: 練愛iNG, ID: 10442\n",
      "Movie: 鋼鐵勳章, ID: 10432\n",
      "Movie: 我，最親愛的, ID: 10503\n",
      "Movie: 血衛, ID: 10469\n",
      "Movie: 導演先生的完美假期, ID: 10545\n",
      "Movie: 大地蜜語, ID: 10513\n",
      "Movie: 狂飆一夢, ID: 10506\n",
      "Movie: 親愛的莎瑪, ID: 10491\n",
      "Movie: 大畫特務, ID: 10478\n",
      "Movie: 戰慄糖果屋, ID: 10472\n",
      "Movie: 失戀殺人：三角禁戀, ID: 10465\n",
      "Movie: 明明會說話, ID: 10440\n",
      "Movie: 艾瑪, ID: 10396\n",
      "Movie: 罪樂園, ID: 10349\n",
      "Movie: 千日千夜, ID: 10490\n",
      "Movie: 鳴鳥不飛：烏雲密布, ID: 10458\n",
      "Movie: 哥布林殺手 劇場版, ID: 10438\n",
      "Movie: 女鬼橋, ID: 10437\n",
      "Movie: 怨咒, ID: 10421\n",
      "Movie: 極地守護犬, ID: 10383\n",
      "Movie: 叔．叔, ID: 10371\n",
      "Movie: 隱形人, ID: 10359\n",
      "Movie: 失路人, ID: 10498\n",
      "Movie: 電影音效傳奇：好萊塢之聲, ID: 10484\n",
      "Movie: 悲慘世界, ID: 10479\n",
      "Movie: 吹哨奇案, ID: 10475\n",
      "Movie: 陰櫥, ID: 10457\n",
      "Movie: 絕命大平台, ID: 10447\n",
      "Movie: 李察朱威爾事件, ID: 10368\n",
      "Movie: 音速小子, ID: 9246\n",
      "Movie: 逃出夢幻島, ID: 10485\n",
      "Movie: 雨天．紐約, ID: 10476\n",
      "Movie: 超＂人＂氣動物園, ID: 10445\n",
      "Movie: 全境失控, ID: 10426\n",
      "Movie: 猛禽小隊：小丑女大解放, ID: 10268\n",
      "Movie: 紅鞋公主與七矮人, ID: 10417\n",
      "Movie: 1917, ID: 10189\n",
      "Movie: 她們, ID: 10202\n",
      "Movie: 變身特務, ID: 9008\n",
      "Movie: 在黑暗中漫舞：20週年數位修復版, ID: 10428\n",
      "Movie: 青春催落去, ID: 10404\n",
      "Movie: 絕地戰警FOR LIFE, ID: 10242\n",
      "Movie: 星星知我心, ID: 10409\n",
      "Movie: 逃出天堂島, ID: 10384\n",
      "Movie: 別告訴她, ID: 10382\n",
      "Movie: 真愛裁會贏, ID: 10362\n",
      "Movie: 潛艦追緝, ID: 10333\n",
      "Movie: 霹靂嬌娃, ID: 10124\n",
      "Movie: CATS貓, ID: 10166\n",
      "Movie: STAR WARS : 天行者的崛起, ID: 10225\n",
      "Movie: 黑色聖誕節, ID: 10291\n",
      "Movie: 去年聖誕節, ID: 10256\n",
      "Movie: 野蠻遊戲：全面晉級, ID: 10134\n",
      "Movie: 寂寞診療室, ID: 10282\n",
      "Movie: 布魯克林孤兒, ID: 10224\n",
      "Movie: 賽道狂人, ID: 10097\n",
      "Movie: 冰雪奇緣2, ID: 9597\n",
      "Movie: 萬萬沒想到, ID: 10281\n",
      "Movie: 救火奶爸, ID: 10164\n",
      "Movie: 決戰中途島, ID: 10130\n",
      "Movie: 魔鬼終結者：黑暗宿命, ID: 10067\n",
      "Movie: 絕鯊47：猛鯊出籠, ID: 10214\n",
      "Movie: 貓咪知道但是貓咪不說, ID: 10203\n",
      "Movie: 天氣之子, ID: 10091\n",
      "Movie: 寄生上流, ID: 10020\n",
      "Movie: 人生最後一場拍賣會, ID: 10073\n",
      "Movie: 一首搖滾上月球, ID: 4887\n",
      "Movie: 錢不夠用2, ID: 3026\n"
     ]
    }
   ],
   "source": [
    "# 查看目前上映那些電影，並擷取出其ID資訊\n",
    "url = 'https://movies.yahoo.com.tw/'\n",
    "resp = requests.get(url)\n",
    "resp.encoding = 'utf-8'\n",
    "\n",
    "soup = BeautifulSoup(resp.text, 'lxml')\n",
    "html = soup.find(\"select\", attrs={'name':'movie_id'})\n",
    "movie_item = html.find_all(\"option\", attrs={'data-name':re.compile('.*')})\n",
    "\n",
    "for p in movie_item:\n",
    "    print(\"Movie: %s, ID: %s\" % (p[\"data-name\"], p[\"value\"]))"
   ]
  },
  {
   "cell_type": "markdown",
   "metadata": {},
   "source": [
    "### 指定你有興趣的電影其ID，然後查詢其放映地區資訊。"
   ]
  },
  {
   "cell_type": "code",
   "execution_count": 3,
   "metadata": {},
   "outputs": [],
   "source": [
    "# 參考前一個步驟中擷取到的ID資訊，並指定ID\n",
    "movie_id = 10445"
   ]
  },
  {
   "cell_type": "code",
   "execution_count": 4,
   "metadata": {},
   "outputs": [
    {
     "name": "stdout",
     "output_type": "stream",
     "text": [
      "放映地區: 台北市, 代號(area_id): 28\n",
      "放映地區: 新北市, 代號(area_id): 8\n",
      "放映地區: 桃園, 代號(area_id): 16\n",
      "放映地區: 新竹, 代號(area_id): 20\n",
      "放映地區: 台中, 代號(area_id): 2\n",
      "放映地區: 台南, 代號(area_id): 10\n",
      "放映地區: 高雄, 代號(area_id): 17\n"
     ]
    }
   ],
   "source": [
    "url = 'https://movies.yahoo.com.tw/api/v1/areas_by_movie_theater'\n",
    "payload = {'movie_id':str(movie_id)}\n",
    "\n",
    "# 模擬一個header\n",
    "headers = {\n",
    "    'authority': 'movies.yahoo.com.tw',\n",
    "    'method': 'GET',\n",
    "    'path': '/api/v1/areas_by_movie_theater?movie_id=' + str(movie_id),\n",
    "    'scheme': 'https',\n",
    "    'accept': 'application/json, text/javascript, */*; q=0.01',\n",
    "    'accept-encoding': 'gzip, deflate, br',\n",
    "    'accept-language': 'zh-TW,zh;q=0.9,en-US;q=0.8,en;q=0.7,zh-CN;q=0.6',\n",
    "    'cookie': 'rxx=9s3x2fws06.1g16irnc&v=1; _ga=GA1.3.2056742944.1551651301; GUC=AQEBAQFczFpdm0IfmwSB&s=AQAAACoo4N5D&g=XMsVBw; BX=4hkdk1decm57t&b=3&s=mr; _ga=GA1.4.2056742944.1551651301; nexagesuid=82843256dd234e8e91aa73f2062f8218; browsed_movie=eyJpdiI6IlJXWWtiSWJaZlNGK2MxQnhscnVUYWc9PSIsInZhbHVlIjoiMXRhMmVHRXRIeUNjc1RBWDJzdGYwbnlIQURmWGsrcjJSMzhkbkcraDNJVUNIZEZsbzU3amlFcVZ1NzlmazJrTGpoMjVrbHk1YmpoRENXaHZTOUw1TmI2ZTZVWHdOejZQZm16RmVuMWlHTTJLaTZLVFZZVkFOMDlTd1wvSGltcytJIiwibWFjIjoiZWQ2ZjA4MmVjZmZlYjlmNjJmYmY2NGMyMDI0Njc0NWViYjVkOWE2NDg0N2RhODMxZjBjZDhiMmJhZTc2MDZhYiJ9; avi=eyJpdiI6Im1NeWFJRlVRWDR1endEcGRGUGJUbVE9PSIsInZhbHVlIjoickRpU3JuUytmcGl6cjF5OW0rNU9iZz09IiwibWFjIjoiY2VmY2NkNzZmM2NhNjY5YzlkOTcyNjE5OGEyMzU0NWYxOTdmMDRkMDY3OWNmMmZjOTMxYjc5MjI5N2Q5NGE5MiJ9; cmp=t=1559391030&j=0; _gid=GA1.4.779543841.1559391031; XSRF-TOKEN=eyJpdiI6IkhpS2hGcDRQaHlmWUJmaHdSS2Q2bHc9PSIsInZhbHVlIjoiOUVoNFk4OHI1UUZmUWRtYXhza0MyWjJSTlhlZ3RnT0VGeVJPN2JuczVRMGRFdWt2OUlsamVKeHRobFwvcHBGM0dhU3VyMXNGTHlsb2dVM2l0U1hpUGxBPT0iLCJtYWMiOiJkZWU4YzJhNjAxMTY3MzE4Y2ExNWIxYmE1ZjE1YWZlZTlhOTcyYjc4M2RlZGY4ZWNjZDYyMTA2NGYwZGViMzc2In0%3D; m_s=eyJpdiI6InpsZHZ2Tk1BZ0dxaHhETml1RjBnUXc9PSIsInZhbHVlIjoiSkNGeHUranRoXC85bDFiaDhySTJqNkJRcWdjWUxjeVRJSHVYZ1wvd2d4bWJZUTUrSHVDM0lUcW5KNHdETFZ4T1lieU81OUhzc1VoUXhZcWk0UDZSQXVFdz09IiwibWFjIjoiYmJkMDJkMDhlODIzMzcyMWY4M2NmYWNjNGVlOWRjMDIwZmVmNzAyMjE3Yzg3ZGY3ODBkZWEzZTI4MTI5ZWNmOSJ9; _gat=1; nexagesd=10',\n",
    "    'dnt': '1',\n",
    "    'mv-authorization': '21835b082e15b91a69b3851eec7b31b82ce82afb',\n",
    "    'referer': 'https://movies.yahoo.com.tw/',\n",
    "    'user-agent': 'Mozilla/5.0 (Windows NT 10.0; Win64; x64) AppleWebKit/537.36 (KHTML, like Gecko) Chrome/74.0.3729.169 Safari/537.36',\n",
    "    'x-requested-with': 'XMLHttpRequest',\n",
    "}\n",
    "    \n",
    "resp = requests.get(url, params=payload, headers=headers)\n",
    "#print(resp.json())  # 若有需要，列印出json原始碼\n",
    "\n",
    "# 這裡回傳的格式是JSON格式的資料，要解析JSON擷取資料\n",
    "for p in resp.json():\n",
    "    print('放映地區: {0}, 代號(area_id): {1}'.format(p['title'], p['area_id']))"
   ]
  },
  {
   "cell_type": "markdown",
   "metadata": {},
   "source": [
    "### 指定你想要觀看的放映地區，查詢有上映電影的場次日期"
   ]
  },
  {
   "cell_type": "code",
   "execution_count": 5,
   "metadata": {},
   "outputs": [],
   "source": [
    "# 指定放映地區\n",
    "area_id = 28"
   ]
  },
  {
   "cell_type": "code",
   "execution_count": 6,
   "metadata": {},
   "outputs": [
    {
     "name": "stdout",
     "output_type": "stream",
     "text": [
      "三月 14\n",
      "三月 15\n",
      "三月 16\n",
      "三月 17\n",
      "三月 18\n"
     ]
    }
   ],
   "source": [
    "# 向網站發送請求\n",
    "url = 'https://movies.yahoo.com.tw/movietime_result.html'\n",
    "payload = {'movie_id':str(movie_id),\n",
    "           'area_id':str(area_id)}\n",
    "resp = requests.get(url, params=payload)\n",
    "resp.encoding = 'utf-8'\n",
    "\n",
    "soup = BeautifulSoup(resp.text, 'lxml')\n",
    "movie_date = soup.find_all(\"label\", attrs={'for':re.compile(\"date_[\\d]\")})\n",
    "\n",
    "# 列印播放日期\n",
    "for date in movie_date:\n",
    "    print(\"%s %s\" % (date.p.string, date.h3.string))"
   ]
  },
  {
   "cell_type": "markdown",
   "metadata": {},
   "source": [
    "### 最後指定觀看的日期，查詢並列印出放映的電影院、放映類型(數位、3D、IMAX 3D...)、放映時間等資訊。"
   ]
  },
  {
   "cell_type": "code",
   "execution_count": 28,
   "metadata": {},
   "outputs": [],
   "source": [
    "# 選定要觀看的日期\n",
    "date = \"2019-03-17\""
   ]
  },
  {
   "cell_type": "code",
   "execution_count": 31,
   "metadata": {},
   "outputs": [
    {
     "name": "stdout",
     "output_type": "stream",
     "text": [
      "<html><body><div class=\"pc-movie-schedule-form\">\n",
      "<!-- 若今天沒有時刻表，顯示\"本日電影未上映\" -->\n",
      "<p class=\"no_released\">本日電影未上映</p>\n",
      "<div class=\"booking_modal jq_booking_modal\">\n",
      "<div class=\"booking_modal_backdrop\"></div>\n",
      "<!-- 時報訂票 ＆ 有官網訂票 新增 class => no_seats -->\n",
      "<div class=\"booking_modal_content jq_booking_modal_content\">\n",
      "<form action=\"https://movies.yahoo.com.tw/ticket/ezding_ticket\" id=\"form_schedule\" method=\"get\" target=\"_blank\">\n",
      "<div class=\"ezding_ticket_value\">\n",
      "<input name=\"movie_id\" type=\"hidden\" value=\"\"/>\n",
      "<input name=\"cinema_id\" type=\"hidden\" value=\"\"/>\n",
      "<input name=\"session_id\" type=\"hidden\" value=\"\"/>\n",
      "<input name=\"date\" type=\"hidden\" value=\"\"/>\n",
      "<input name=\"time\" type=\"hidden\" value=\"\"/>\n",
      "<input name=\"campaign_code\" type=\"hidden\" value=\"yahoopc\"/>\n",
      "</div>\n",
      "<ul class=\"top_infos\">\n",
      "<li>\n",
      "<p>片名</p>\n",
      "<h3 id=\"top_infos_movie\"></h3>\n",
      "</li>\n",
      "<li>\n",
      "<p>影城</p>\n",
      "<h3 id=\"top_infos_theater\"></h3>\n",
      "</li>\n",
      "<li>\n",
      "<p>日期</p>\n",
      "<h3 id=\"top_infos_date\"></h3>\n",
      "</li>\n",
      "<li>\n",
      "<p>版本</p>\n",
      "<h3 id=\"top_infos_movie_type\"></h3>\n",
      "</li>\n",
      "<li>\n",
      "<p>時間</p>\n",
      "<h3 id=\"top_infos_time\"></h3>\n",
      "</li>\n",
      "</ul>\n",
      "<div class=\"booking_seats\">\n",
      "<a class=\"theater_schedules gabtn\" data-ga=\"['電影頁_時刻表', '電影頁_時刻表_一般戲院_全部電影場次', '']\" href=\"#\">全部電影場次</a>\n",
      "<a class=\"theater_url gabtn\" data-ga=\"['電影頁_時刻表', '電影頁_時刻表_一般戲院_官網訂票', '']\" href=\"#\" target=\"_blank\">官網訂票</a>\n",
      "<p class=\"no_theater_url\" id=\"no_theater_url\">無提供官網訂票</p>\n",
      "<p class=\"booking_number\" id=\"booking_number\">人數</p>\n",
      "<div class=\"booking_seat_group jq_booking_seat_group\">\n",
      "<input id=\"seat_1\" name=\"tickets\" type=\"radio\" value=\"1\"/>\n",
      "<label for=\"seat_1\">1</label>\n",
      "<input checked=\"\" id=\"seat_2\" name=\"tickets\" type=\"radio\" value=\"2\"/>\n",
      "<label for=\"seat_2\">2</label>\n",
      "<input id=\"seat_3\" name=\"tickets\" type=\"radio\" value=\"3\"/>\n",
      "<label for=\"seat_3\">3</label>\n",
      "<input id=\"seat_4\" name=\"tickets\" type=\"radio\" value=\"4\"/>\n",
      "<label for=\"seat_4\">4</label>\n",
      "<input id=\"seat_5\" name=\"tickets\" type=\"radio\" value=\"5\"/>\n",
      "<label for=\"seat_5\">5</label>\n",
      "<input id=\"seat_6\" name=\"tickets\" type=\"radio\" value=\"6\"/>\n",
      "<label for=\"seat_6\">6</label>\n",
      "</div>\n",
      "<button class=\"action_btn action_booking_btn jq_booking_btn gabtn\" data-ga=\"['電影頁_時刻表', '電影頁_時刻表_一般戲院_選位', '']\" type=\"submit\">選位</button>\n",
      "<a class=\"action_btn action_link jq_booking_link gabtn\" data-ga=\"['電影頁_時刻表', '電影頁_時刻表_時報戲院_官網選位', '']\" href=\"#\" target=\"_blank\">官網訂票</a>\n",
      "<button class=\"action_btn close jq_close_booking_btn\" type=\"button\">關閉</button>\n",
      "</div>\n",
      "</form>\n",
      "<!-- 無官網訂票區塊 -->\n",
      "<div class=\"no_theater_section\">\n",
      "<p>無提供官網訂票</p>\n",
      "<button class=\"action_btn close jq_close_booking_btn\" type=\"button\">關閉</button>\n",
      "</div>\n",
      "</div>\n",
      "</div></div></body></html>\n"
     ]
    }
   ],
   "source": [
    "# 向網站發送請求，獲取上映的電影院及時間資訊\n",
    "url = \"https://movies.yahoo.com.tw/ajax/pc/get_schedule_by_movie\"\n",
    "payload = {'movie_id':str(movie_id),\n",
    "           'date':date,\n",
    "           'area_id':str(area_id),\n",
    "           'theater_id':'',\n",
    "           'datetime':'',\n",
    "           'movie_type_id':''}\n",
    "\n",
    "resp = requests.get(url, params=payload)\n",
    "soup = BeautifulSoup(resp.json()['view'], 'lxml')\n",
    "html = soup.find_all(\"ul\", attrs={'data-theater_name':re.compile(\".*\")})\n",
    "\n",
    "for info in soup.find(\"ul\",attrs={\"class\":\"top_infos\"}).find_all(\"li\"):\n",
    "    print(info.find(\"p\").text)"
   ]
  },
  {
   "cell_type": "code",
   "execution_count": 14,
   "metadata": {},
   "outputs": [],
   "source": []
  },
  {
   "cell_type": "code",
   "execution_count": null,
   "metadata": {},
   "outputs": [],
   "source": []
  }
 ],
 "metadata": {
  "kernelspec": {
   "display_name": "Python 3",
   "language": "python",
   "name": "python3"
  },
  "language_info": {
   "codemirror_mode": {
    "name": "ipython",
    "version": 3
   },
   "file_extension": ".py",
   "mimetype": "text/x-python",
   "name": "python",
   "nbconvert_exporter": "python",
   "pygments_lexer": "ipython3",
   "version": "3.7.3"
  }
 },
 "nbformat": 4,
 "nbformat_minor": 2
}
