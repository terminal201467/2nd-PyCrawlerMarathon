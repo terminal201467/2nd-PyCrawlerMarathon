{
 "cells": [
  {
   "cell_type": "markdown",
   "metadata": {},
   "source": [
    "# 1.（簡答題）檔案、API、爬蟲三種取得資料方式有什麼不同？\n",
    "\n",
    "\n",
    "# 2.（實作）完成一個程式，需滿足下列需求：\n",
    "\n",
    "「下載指定檔案到 Data 資料夾，存成檔名 Homework.txt」的檔案網址：https://www.w3.org/TR/PNG/iso_8859-1.txt 或任一個 .txt 的檔案網址\n",
    "\n",
    "檢查 Data 資料夾是否有 Homework.txt 檔名之檔案\n",
    "\n",
    "將「Hello World」字串覆寫到 Homework.txt 檔案\n",
    "\n",
    "檢查 Homework.txt 檔案字數是否符合 Hello World 字數"
   ]
  },
  {
   "cell_type": "raw",
   "metadata": {},
   "source": [
    "第一題回答：\n",
    "\n",
    "1.檔案：\n",
    "\n",
    "檔案的方式通常會集結打包成CSV檔或JSON等通用格式，讓分析者可以直接通過下載來取得，這種資料的提供方也較有主動性，大部分資料都會公布在官方網站上，提供下載。\n",
    "\n",
    "2.API：\n",
    "提供程式化連接接口，基本上由工程師或分析師以自己的程式設定自由選取需要的部分資料，而不用將整批資料下載下來。\n",
    "\n",
    "3.網路爬蟲：\n",
    "前兩者較為主動，都是由資料擁有方主動提供，且事先已經有完整的檔案，讓資料索取方可以在公開的情況下取得資料，如果資料索取方在網路上找不到相關的資料，才採取網路爬蟲這一個方法，藉此取得資料。所以網路爬蟲是資料索取者主動出擊的資料取得方式。\n"
   ]
  },
  {
   "cell_type": "code",
   "execution_count": 46,
   "metadata": {},
   "outputs": [
    {
     "data": {
      "text/plain": [
       "('Homework.txt', <http.client.HTTPMessage at 0x5160208>)"
      ]
     },
     "execution_count": 46,
     "metadata": {},
     "output_type": "execute_result"
    }
   ],
   "source": [
    "#第二題回答：\n",
    "\n",
    "from urllib.request import urlretrieve #用簡單的請求下載,引入urlretrieve這個方法\n",
    "\n",
    "#使用urlretrieve這個方法下載\n",
    "urlretrieve(\"https://www.w3.org/TR/PNG/iso_8859-1.txt\",\"Homework.txt\") #第一個引號存取的是\"網站網址\",第二個引號存取的是\"檔案資料與格式\""
   ]
  },
  {
   "cell_type": "code",
   "execution_count": 38,
   "metadata": {},
   "outputs": [
    {
     "name": "stdout",
     "output_type": "stream",
     "text": [
      ".conda\n",
      ".config\n",
      ".ipynb_checkpoints\n",
      ".ipython\n",
      ".jupyter\n",
      ".matplotlib\n",
      ".spyder-py3\n",
      "2015_SO2.png\n",
      "2016_SO2.png\n",
      "Anaconda3\n",
      "AppData\n",
      "Application Data\n",
      "BMI計算函式.py\n",
      "Contacts\n",
      "Cookies\n",
      "Day001_HW.ipynb\n",
      "Desktop\n",
      "Documents\n",
      "Downloads\n",
      "Favorites\n",
      "history.py\n",
      "Homework.txt\n",
      "knime-workspace\n",
      "Links\n",
      "Local Settings\n",
      "matplotlib作業.py\n",
      "Music\n",
      "My Documents\n",
      "NetHood\n",
      "NTUSER.DAT\n",
      "ntuser.dat.LOG1\n",
      "ntuser.dat.LOG2\n",
      "NTUSER.DAT{016888bd-6c6f-11de-8d1d-001e0bcde3ec}.TM.blf\n",
      "NTUSER.DAT{016888bd-6c6f-11de-8d1d-001e0bcde3ec}.TMContainer00000000000000000001.regtrans-ms\n",
      "NTUSER.DAT{016888bd-6c6f-11de-8d1d-001e0bcde3ec}.TMContainer00000000000000000002.regtrans-ms\n",
      "ntuser.ini\n",
      "pandas作業.py\n",
      "pandas分析.py\n",
      "Pictures\n",
      "PrintHood\n",
      "Recent\n",
      "Saved Games\n",
      "Searches\n",
      "SendTo\n",
      "Templates\n",
      "Thumbs.db\n",
      "untitled\n",
      "Untitled.ipynb\n",
      "untitled0.py\n",
      "untitled0511.py\n",
      "Untitled1.ipynb\n",
      "Untitled2.ipynb\n",
      "untitled2.py\n",
      "Untitled3.ipynb\n",
      "Untitled4.ipynb\n",
      "Untitled5.ipynb\n",
      "Videos\n",
      "[開始] 功能表\n",
      "判讀資料.py\n",
      "台中不動產買賣分析.py\n",
      "合併檔案工具.py\n",
      "大數據期末作業.py\n",
      "大數據起來.py\n",
      "字典查詢與編輯.py\n",
      "學生表格.html\n",
      "專題圖資.py\n",
      "專題節骨眼.py\n",
      "幹甚麼東西.html\n",
      "期末作業：機器演算法實作房價預測.ipynb\n",
      "林佳龍執政時期AQI指數的詳細情形.py\n",
      "機器學習.py\n",
      "比大小.py\n",
      "汙染源折線圖完成檔（只欠東風）.py\n",
      "清單排列.py\n",
      "清單查詢.py\n",
      "清洗資料專用.py\n",
      "熱源時間圖.py\n",
      "爬蟲單元一.py\n",
      "爬蟲實作.py\n",
      "相關係數函數.py\n",
      "自訂函數.py\n",
      "臺中市近四年空氣品質指數AQI之數據探討.ipynb\n",
      "視覺化工具.py\n",
      "資料分析.py\n",
      "資料擷取().py\n",
      "資料擷取(基本功).py\n",
      "資料視覺化.py\n",
      "陣列 計算.py\n",
      "題目.py\n"
     ]
    }
   ],
   "source": [
    "import os,sys #使用os方法\n",
    "dirs = os.listdir('./') #打開文件 \n",
    "\n",
    "for file in dirs: #走訪所有文件\n",
    "    print(file) #顯示出所有的文件"
   ]
  },
  {
   "cell_type": "code",
   "execution_count": 65,
   "metadata": {},
   "outputs": [
    {
     "name": "stdout",
     "output_type": "stream",
     "text": [
      "11\n"
     ]
    }
   ],
   "source": [
    "#方法一:\n",
    "\n",
    "fh = open(\"Homework.txt\",\"w\")#讀取Homework.txt這個檔案\n",
    "f = fh.write(\"Hello World\")#寫入Hello World這個字串\n",
    "fh.close()\n",
    "\n",
    "print(f)"
   ]
  },
  {
   "cell_type": "code",
   "execution_count": 66,
   "metadata": {},
   "outputs": [
    {
     "name": "stdout",
     "output_type": "stream",
     "text": [
      "Hello World\n"
     ]
    }
   ],
   "source": [
    "fh = open(\"Homework.txt\",\"r\")\n",
    "f = fh.read()\n",
    "fh.close()\n",
    "\n",
    "print(f)"
   ]
  },
  {
   "cell_type": "code",
   "execution_count": 73,
   "metadata": {},
   "outputs": [
    {
     "name": "stdout",
     "output_type": "stream",
     "text": [
      "11\n",
      "Hello World\n"
     ]
    }
   ],
   "source": [
    "#方法二：使用資源管理器\n",
    "\n",
    "with open(\"Homework.txt\",\"w\") as fh:\n",
    "    f = fh.write(\"Hello World\")\n",
    "    print(f)\n",
    "    \n",
    "with open(\"Homework.txt\",\"r\") as fh:\n",
    "    f = fh.read()\n",
    "    print(f)"
   ]
  },
  {
   "cell_type": "code",
   "execution_count": null,
   "metadata": {},
   "outputs": [],
   "source": []
  }
 ],
 "metadata": {
  "kernelspec": {
   "display_name": "Python 3",
   "language": "python",
   "name": "python3"
  },
  "language_info": {
   "codemirror_mode": {
    "name": "ipython",
    "version": 3
   },
   "file_extension": ".py",
   "mimetype": "text/x-python",
   "name": "python",
   "nbconvert_exporter": "python",
   "pygments_lexer": "ipython3",
   "version": "3.7.3"
  }
 },
 "nbformat": 4,
 "nbformat_minor": 2
}
