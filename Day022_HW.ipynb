{
 "cells": [
  {
   "cell_type": "markdown",
   "metadata": {},
   "source": [
    "# 空氣污染監測網 網路爬蟲實作練習\n",
    "\n",
    "\n",
    "* 能夠利用 selenium + BeautifulSoup 撰寫爬蟲，並存放到合適的資料結構\n"
   ]
  },
  {
   "cell_type": "markdown",
   "metadata": {},
   "source": [
    "## 作業目標\n",
    "\n",
    "根據範例 ，完成以下問題：\n",
    "\n",
    "* ① 取出 台北市士林區 2018/01 – 2018/08 的 SO2 資料\n",
    "* ② 取出 台北市士林區 2018/01 – 2018/08 的 SO2、CO 資料\n",
    "\n",
    "\n",
    "\n"
   ]
  },
  {
   "cell_type": "markdown",
   "metadata": {},
   "source": [
    "### ① 取出 台北市士林區 2018/01 – 2018/08 的 SO2 資料"
   ]
  },
  {
   "cell_type": "code",
   "execution_count": 1,
   "metadata": {},
   "outputs": [],
   "source": [
    "from selenium import webdriver \n",
    "from selenium.webdriver.support.ui import Select as s\n",
    "\n",
    "browser = webdriver.Chrome(executable_path=\"C:/Users/user/chromedriver.exe\")\n",
    "browser.get(\"http://taqm.epa.gov.tw/taqm/tw/MonthlyAverage.aspx\")"
   ]
  },
  {
   "cell_type": "code",
   "execution_count": 4,
   "metadata": {},
   "outputs": [],
   "source": [
    "from datetime import timedelta\n",
    "import datetime \n",
    "d1 = datetime.datetime(2018,8,31)\n",
    "#d2 = datetime.datetime(2018,1,1)\n",
    "#t =(d1-d2).days\n",
    "#print(t)\n",
    "eight_month_ago = d1 - timedelta(days = 242)"
   ]
  },
  {
   "cell_type": "code",
   "execution_count": 6,
   "metadata": {},
   "outputs": [],
   "source": [
    "sSite = s(browser.find_element_by_id(\"ctl05_ddlSite\"))\n",
    "sSite.select_by_value(\"11\")\n",
    "sYear = s(browser.find_element_by_id(\"ctl05_ddlYear\"))\n",
    "sYear.select_by_value(\"2018\")\n",
    "browser.find_element_by_id('ctl05_btnQuery').click()"
   ]
  },
  {
   "cell_type": "code",
   "execution_count": 20,
   "metadata": {},
   "outputs": [
    {
     "data": {
      "text/plain": [
       "2018/01    1.80\n",
       "2018/02    1.90\n",
       "2018/03    2.20\n",
       "2018/04    2.30\n",
       "2018/05    3.10\n",
       "2018/06    2.70\n",
       "2018/07    2.20\n",
       "2018/08    2.40\n",
       "Name: SO2, dtype: object"
      ]
     },
     "execution_count": 20,
     "metadata": {},
     "output_type": "execute_result"
    }
   ],
   "source": [
    "from bs4 import BeautifulSoup as b\n",
    "url = \"https://taqm.epa.gov.tw/taqm/tw/MonthlyAverage.aspx\"\n",
    "html_source = browser.page_source\n",
    "soup = b(html_source,\"html5\")\n",
    "table = soup.find(\"table\",attrs={\"class\":\"TABLE_G\"})\n",
    "so2 = table.find(\"tbody\").find_all(\"td\",attrs={\"class\":\"no-alt\"})[0].text\n",
    "\n",
    "d = {}\n",
    "for tr in table.find_all(\"tr\")[1:]:\n",
    "    for i ,td in enumerate(tr.find_all(\"td\")):\n",
    "        if len(tr.find_all(\"td\")) == 5:\n",
    "            if i == 0:\n",
    "                obs = td.text\n",
    "                d.setdefault(obs,{})\n",
    "            if i == 2:\n",
    "                date = td.text #日期\n",
    "            if i == 3:\n",
    "                value = td.text\n",
    "                d[obs][date] = value\n",
    "        if len(tr.find_all(\"td\")) == 3:\n",
    "            if i == 0:\n",
    "                date = td.text #日期\n",
    "            if i == 1:\n",
    "                value = td.text\n",
    "                d[obs][date] = value\n",
    "                \n",
    "import pandas as pd\n",
    "df = pd.DataFrame(d)\n",
    "df.SO2[0:8]"
   ]
  },
  {
   "cell_type": "markdown",
   "metadata": {},
   "source": [
    "### ② 取出 台北市士林區 2018/01 – 2018/08 的 SO2、CO 資料"
   ]
  },
  {
   "cell_type": "code",
   "execution_count": 21,
   "metadata": {},
   "outputs": [],
   "source": [
    "from selenium import webdriver \n",
    "from selenium.webdriver.support.ui import Select as s\n",
    "\n",
    "url = \"http://taqm.epa.gov.tw/taqm/tw/MonthlyAverage.aspx\"\n",
    "browser = webdriver.Chrome(executable_path=\"C:/Users/user/chromedriver.exe\")\n",
    "browser.get(url)"
   ]
  },
  {
   "cell_type": "code",
   "execution_count": 31,
   "metadata": {},
   "outputs": [],
   "source": [
    "sSite = s(browser.find_element_by_id(\"ctl05_ddlSite\"))\n",
    "sSite.select_by_value(\"11\")\n",
    "sYear = s(browser.find_element_by_id(\"ctl05_ddlYear\"))\n",
    "sYear.select_by_value(\"2018\")\n",
    "browser.find_element_by_id('ctl05_btnQuery').click()"
   ]
  },
  {
   "cell_type": "code",
   "execution_count": 52,
   "metadata": {},
   "outputs": [
    {
     "name": "stdout",
     "output_type": "stream",
     "text": [
      "2018/01    1.80\n",
      "2018/02    1.90\n",
      "2018/03    2.20\n",
      "2018/04    2.30\n",
      "2018/05    3.10\n",
      "2018/06    2.70\n",
      "2018/07    2.20\n",
      "2018/08    2.40\n",
      "Name: SO2, dtype: object\n",
      "2018/01    0.34\n",
      "2018/02    0.44\n",
      "2018/03    0.40\n",
      "2018/04    0.38\n",
      "2018/05    0.34\n",
      "2018/06    0.29\n",
      "2018/07    0.21\n",
      "2018/08    0.30\n",
      "Name: CO, dtype: object\n"
     ]
    }
   ],
   "source": [
    "from bs4 import BeautifulSoup\n",
    "html_source = browser.page_source\n",
    "soup = b(html_source,\"html5\")\n",
    "table = soup.find(\"table\",attrs={\"class\":\"TABLE_G\"})\n",
    "\n",
    "item = {}\n",
    "for tr in table.find(\"tbody\").find_all(\"tr\")[1:]:\n",
    "    for i , td in enumerate(tr.find_all(\"td\")):\n",
    "        if len(tr.find_all(\"td\")) == 5:\n",
    "            if i == 0:\n",
    "                obs = td.text\n",
    "                item.setdefault(obs,{})\n",
    "            if i == 2:\n",
    "                date = td.text\n",
    "            if i == 3:\n",
    "                value = td.text\n",
    "                item[obs][date] = value\n",
    "        if len(tr.find_all(\"td\")) == 3:\n",
    "            if i == 0:\n",
    "                date = td.text\n",
    "            if i == 1:\n",
    "                value = td.text\n",
    "                item[obs][date] = value\n",
    "                \n",
    "import pandas as pd\n",
    "df = pd.DataFrame(item)\n",
    "print(df.SO2[0:8])\n",
    "print(df.CO[0:8])"
   ]
  },
  {
   "cell_type": "code",
   "execution_count": null,
   "metadata": {},
   "outputs": [],
   "source": []
  }
 ],
 "metadata": {
  "kernelspec": {
   "display_name": "Python 3",
   "language": "python",
   "name": "python3"
  },
  "language_info": {
   "codemirror_mode": {
    "name": "ipython",
    "version": 3
   },
   "file_extension": ".py",
   "mimetype": "text/x-python",
   "name": "python",
   "nbconvert_exporter": "python",
   "pygments_lexer": "ipython3",
   "version": "3.7.3"
  }
 },
 "nbformat": 4,
 "nbformat_minor": 2
}
